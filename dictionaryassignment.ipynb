{
 "cells": [
  {
   "cell_type": "code",
   "execution_count": 1,
   "id": "9572ca20-d0b4-45c4-99db-2052f49768c5",
   "metadata": {},
   "outputs": [
    {
     "name": "stdout",
     "output_type": "stream",
     "text": [
      "{'name': 'Hadia', 'age': 20}\n"
     ]
    }
   ],
   "source": [
    "# 1. dict()\n",
    "student = {\n",
    "    'name':'Hadia',\n",
    "    'age': 20\n",
    "}\n",
    "print(student)"
   ]
  },
  {
   "cell_type": "code",
   "execution_count": 2,
   "id": "9303cd55-f24c-4429-9991-6e6034a8f86f",
   "metadata": {},
   "outputs": [
    {
     "name": "stdout",
     "output_type": "stream",
     "text": [
      "{'name': 'Hadia', 'age': 20, 'course': 'Math'}\n"
     ]
    }
   ],
   "source": [
    "# 2. update()\n",
    "student.update({\"course\": \"Math\"})\n",
    "print(student)"
   ]
  },
  {
   "cell_type": "code",
   "execution_count": 3,
   "id": "7966e20c-d943-4781-8d15-4e1a95aa5b6d",
   "metadata": {},
   "outputs": [
    {
     "name": "stdout",
     "output_type": "stream",
     "text": [
      "20\n",
      "not available\n"
     ]
    }
   ],
   "source": [
    "# 3. get()\n",
    "print(student.get(\"age\"))            \n",
    "print(student.get(\"grade\",'not available'))"
   ]
  },
  {
   "cell_type": "code",
   "execution_count": 4,
   "id": "7732a327-f294-4ea3-b02b-028e3372ab08",
   "metadata": {},
   "outputs": [
    {
     "name": "stdout",
     "output_type": "stream",
     "text": [
      "dict_keys(['name', 'age', 'course'])\n"
     ]
    }
   ],
   "source": [
    "# 4. keys()\n",
    "print(student.keys())"
   ]
  },
  {
   "cell_type": "code",
   "execution_count": 5,
   "id": "0f750f34-869e-41d4-946c-a479ec4b77b7",
   "metadata": {},
   "outputs": [
    {
     "name": "stdout",
     "output_type": "stream",
     "text": [
      "dict_values(['Hadia', 20, 'Math'])\n"
     ]
    }
   ],
   "source": [
    "# 5. values()\n",
    "print(student.values())"
   ]
  },
  {
   "cell_type": "code",
   "execution_count": 6,
   "id": "2174dfb4-7502-427b-8ebb-d41bb6bf8c9d",
   "metadata": {},
   "outputs": [
    {
     "name": "stdout",
     "output_type": "stream",
     "text": [
      "dict_items([('name', 'Hadia'), ('age', 20), ('course', 'Math')])\n"
     ]
    }
   ],
   "source": [
    "# 6. items()\n",
    "print(student.items())"
   ]
  },
  {
   "cell_type": "code",
   "execution_count": 7,
   "id": "28e6a833-b921-4f94-992c-523715917b7a",
   "metadata": {},
   "outputs": [
    {
     "name": "stdout",
     "output_type": "stream",
     "text": [
      "{'name': 'Hadia', 'age': 20}\n"
     ]
    }
   ],
   "source": [
    "# 7. pop()\n",
    "student.pop(\"course\")\n",
    "print(student)"
   ]
  },
  {
   "cell_type": "code",
   "execution_count": 8,
   "id": "90b80f95-2e22-48db-b5cf-d35dac8dcdb9",
   "metadata": {},
   "outputs": [
    {
     "name": "stdout",
     "output_type": "stream",
     "text": [
      "{'name': 'Hadia', 'age': 20}\n"
     ]
    }
   ],
   "source": [
    "# 8. copy()\n",
    "copy_dict = student.copy()\n",
    "print(copy_dict)"
   ]
  },
  {
   "cell_type": "code",
   "execution_count": 9,
   "id": "e08f07ef-93ab-4193-8615-0272b9bcb436",
   "metadata": {},
   "outputs": [
    {
     "name": "stdout",
     "output_type": "stream",
     "text": [
      "2\n"
     ]
    }
   ],
   "source": [
    "# 9. len()\n",
    "print(len(student))"
   ]
  },
  {
   "cell_type": "code",
   "execution_count": 10,
   "id": "6b2c88ac-1981-4c9b-875b-0ffe92dc61dd",
   "metadata": {},
   "outputs": [
    {
     "name": "stdout",
     "output_type": "stream",
     "text": [
      "age 20\n",
      "name Hadia\n"
     ]
    }
   ],
   "source": [
    "# 10. (sorted) order\n",
    "for key in sorted(student):\n",
    "    print(key, student[key])\n",
    "    "
   ]
  },
  {
   "cell_type": "code",
   "execution_count": 11,
   "id": "8c4dfdca-a15e-4975-8064-9c63978e215d",
   "metadata": {},
   "outputs": [
    {
     "name": "stdout",
     "output_type": "stream",
     "text": [
      "age 20\n",
      "name Hadia\n"
     ]
    }
   ],
   "source": [
    "# 11. Get keys in reverse  order\n",
    "for key in reversed(student.keys()):\n",
    "    print(key, student[key])"
   ]
  },
  {
   "cell_type": "code",
   "execution_count": 12,
   "id": "ca90ef83-5433-4df2-ba45-2da80df6d23b",
   "metadata": {},
   "outputs": [
    {
     "name": "stdout",
     "output_type": "stream",
     "text": [
      "age 20\n",
      "name Hadia\n"
     ]
    }
   ],
   "source": [
    "# 11. Get keys in reverse  order\n",
    "for key in reversed(student.keys()):\n",
    "    print(key, student[key])"
   ]
  },
  {
   "cell_type": "code",
   "execution_count": 13,
   "id": "92c642a4-46c0-40c6-b983-f4f1d438360e",
   "metadata": {},
   "outputs": [
    {
     "name": "stdout",
     "output_type": "stream",
     "text": [
      "{}\n"
     ]
    }
   ],
   "source": [
    "# 13. clear()\n",
    "student.clear()\n",
    "print(student) "
   ]
  },
  {
   "cell_type": "code",
   "execution_count": null,
   "id": "7e62a225-005e-4650-a202-c61b9fc4a84c",
   "metadata": {},
   "outputs": [],
   "source": []
  }
 ],
 "metadata": {
  "kernelspec": {
   "display_name": "anaconda-panel-2023.05-py310",
   "language": "python",
   "name": "conda-env-anaconda-panel-2023.05-py310-py"
  },
  "language_info": {
   "codemirror_mode": {
    "name": "ipython",
    "version": 3
   },
   "file_extension": ".py",
   "mimetype": "text/x-python",
   "name": "python",
   "nbconvert_exporter": "python",
   "pygments_lexer": "ipython3",
   "version": "3.11.5"
  }
 },
 "nbformat": 4,
 "nbformat_minor": 5
}
