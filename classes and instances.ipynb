{
 "cells": [
  {
   "cell_type": "code",
   "execution_count": 3,
   "id": "f30c47dc-f6a1-43a9-b594-81c428b77886",
   "metadata": {},
   "outputs": [
    {
     "name": "stdout",
     "output_type": "stream",
     "text": [
      "my name is Hadia\n",
      "my age is 19\n"
     ]
    }
   ],
   "source": [
    "class student:\n",
    "    def __init__(self,name,age):\n",
    "        self.name=name\n",
    "        self.age=age\n",
    "x=student('Hadia',19)\n",
    "print(f'my name is {x.name}')\n",
    "print(f'my age is {x.age}')"
   ]
  },
  {
   "cell_type": "code",
   "execution_count": 57,
   "id": "c22e6b27-6ecc-449d-bcc6-f2e8d6ffb6a4",
   "metadata": {},
   "outputs": [
    {
     "name": "stdout",
     "output_type": "stream",
     "text": [
      "my dog's name is Buddy\n",
      "my dog's age is 3\n",
      "Buddy is now sitting\n",
      "Buddy is now rolled_over\n"
     ]
    }
   ],
   "source": [
    "class Dog:\n",
    "    def __init__(self,name,age):\n",
    "        self.name=name\n",
    "        self.age=age\n",
    "    def sit(self):\n",
    "        print(f'{self.name} is now sitting')\n",
    "    def rolled_over(self):\n",
    "        print(f'{self.name} is now rolled_over')\n",
    "       \n",
    "my_dog = Dog('Buddy', 3)\n",
    "print(f\"my dog's name is {my_dog.name}\")\n",
    "print(f\"my dog's age is {my_dog.age}\")\n",
    "my_dog.sit()\n",
    "my_dog.rolled_over()\n",
    "           \n",
    "       \n",
    "        "
   ]
  },
  {
   "cell_type": "code",
   "execution_count": 63,
   "id": "55bf4220-6b04-4f27-9e61-b4732dc932fa",
   "metadata": {},
   "outputs": [
    {
     "name": "stdout",
     "output_type": "stream",
     "text": [
      "my dog's name is Buddy\n",
      "your dog's name is willi\n",
      "my dog's age is 3\n",
      " your dog's age is 6\n",
      "Buddy is now sitting\n",
      "willi is now rolled_over\n"
     ]
    }
   ],
   "source": [
    "class Dog:\n",
    "    def __init__(self,name,age):\n",
    "        self.name=name\n",
    "        self.age=age\n",
    "    def sit(self):\n",
    "        print(f'{self.name} is now sitting')\n",
    "    def rolled_over(self):\n",
    "        print(f'{self.name} is now rolled_over')\n",
    "       \n",
    "my_dog = Dog('Buddy', 3)\n",
    "your_dog=Dog('willi',6)\n",
    "print(f\"my dog's name is {my_dog.name}\")\n",
    "print(f\"your dog's name is {your_dog.name}\")\n",
    "print(f\"my dog's age is {my_dog.age}\")\n",
    "print(f\" your dog's age is {your_dog.age}\")\n",
    "\n",
    "my_dog.sit()\n",
    "your_dog.rolled_over()\n"
   ]
  },
  {
   "cell_type": "code",
   "execution_count": 86,
   "id": "4eebb9c3-2b78-406c-8abb-b962ffa3e252",
   "metadata": {},
   "outputs": [
    {
     "name": "stdout",
     "output_type": "stream",
     "text": [
      "{'audi'} {'a4'} {2022}\n"
     ]
    }
   ],
   "source": [
    "class car:\n",
    "    def __init__(self,make,model,year):\n",
    "        self.make=make\n",
    "        self.model=model\n",
    "        self.year=year\n",
    "    \n",
    "my_car=car('audi','a4',2022)\n",
    "print({my_car.make},{my_car.model},{my_car.year})"
   ]
  },
  {
   "cell_type": "code",
   "execution_count": 90,
   "id": "9c736416-214c-4b07-aa4a-bf448b01ac0a",
   "metadata": {},
   "outputs": [
    {
     "name": "stdout",
     "output_type": "stream",
     "text": [
      " hey! My name is hadia and i'm from 3rd semester\n",
      " hey! My name is Ali and i'm from 4th semester\n"
     ]
    }
   ],
   "source": [
    "class student:\n",
    "    def __init__(self,name,semester):\n",
    "        self.name=name\n",
    "        self.semester=semester\n",
    "    def greet(self):\n",
    "        print(f\" hey! My name is {self.name} and i'm from {self.semester} semester\")\n",
    "s1=student('hadia','3rd')\n",
    "s2=student('Ali','4th')\n",
    "s1.greet()\n",
    "s2.greet()\n",
    "\n",
    "             \n",
    "        "
   ]
  },
  {
   "cell_type": "code",
   "execution_count": 92,
   "id": "1615b803-c6d4-43a9-89af-a16de4d394a2",
   "metadata": {},
   "outputs": [
    {
     "name": "stdout",
     "output_type": "stream",
     "text": [
      "name:hadia\n",
      "age:19\n",
      "semester:3rd\n",
      "cgpa:3.5\n",
      "name:ayesha\n",
      "age:20\n",
      "semester:3rd\n",
      "cgpa:3.0\n",
      "name:Ali\n",
      "age:21\n",
      "semester:4th\n",
      "cgpa:2.7\n"
     ]
    }
   ],
   "source": [
    "class student:\n",
    "    def __init__(self,name,age,semester,cgpa):\n",
    "        self.name=name\n",
    "        self.age=age\n",
    "        self.semester=semester\n",
    "        self.cgpa=cgpa\n",
    "    def intro(self):\n",
    "        print(f\"name:{self.name}\")\n",
    "        print(f\"age:{self.age}\")\n",
    "        print(f\"semester:{self.semester}\")\n",
    "        print(f\"cgpa:{self.cgpa}\")\n",
    "s1=student('hadia',19,'3rd',3.50)\n",
    "s2=student('ayesha',20,'3rd',3.0)\n",
    "s3=student('Ali',21,'4th',2.7)\n",
    "s1.intro()\n",
    "s2.intro()\n",
    "s3.intro()"
   ]
  },
  {
   "cell_type": "code",
   "execution_count": null,
   "id": "ec872ddd-26c3-482d-b4ba-7ea0486ffa13",
   "metadata": {},
   "outputs": [],
   "source": []
  }
 ],
 "metadata": {
  "kernelspec": {
   "display_name": "Python 3 (ipykernel)",
   "language": "python",
   "name": "python3"
  },
  "language_info": {
   "codemirror_mode": {
    "name": "ipython",
    "version": 3
   },
   "file_extension": ".py",
   "mimetype": "text/x-python",
   "name": "python",
   "nbconvert_exporter": "python",
   "pygments_lexer": "ipython3",
   "version": "3.12.4"
  }
 },
 "nbformat": 4,
 "nbformat_minor": 5
}
