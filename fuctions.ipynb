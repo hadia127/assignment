{
 "cells": [
  {
   "cell_type": "code",
   "execution_count": 2,
   "id": "6b1942e0-1e80-44f0-996b-c785c63198ee",
   "metadata": {},
   "outputs": [
    {
     "name": "stdout",
     "output_type": "stream",
     "text": [
      "Hello, Hadia!\n"
     ]
    }
   ],
   "source": [
    "#Function With Parameters\n",
    "def greet_person(name):\n",
    "    print(f\"Hello, {name}!\")\n",
    "greet_person(\"Hadia\")\n",
    "\n",
    "\n",
    "\n",
    "\n",
    "\n"
   ]
  },
  {
   "cell_type": "code",
   "execution_count": 8,
   "id": "54fe7ccd-94ce-4408-b15d-fa447739683c",
   "metadata": {},
   "outputs": [
    {
     "data": {
      "text/plain": [
       "8"
      ]
     },
     "execution_count": 8,
     "metadata": {},
     "output_type": "execute_result"
    }
   ],
   "source": [
    "# Function With Return Value\n",
    "def add(a, b):\n",
    "    return a + b\n",
    "add(5, 3)"
   ]
  },
  {
   "cell_type": "code",
   "execution_count": 4,
   "id": "629073a7-2b40-4ea9-b34d-f8805c34f51d",
   "metadata": {},
   "outputs": [
    {
     "name": "stdout",
     "output_type": "stream",
     "text": [
      "You ordered a large coffee.\n"
     ]
    }
   ],
   "source": [
    "#5. Keyword Arguments \n",
    "\n",
    "def order_drink(type, size):\n",
    "    print(f\"You ordered a {size} {type}.\")\n",
    "order_drink(size=\"large\", type=\"coffee\")\n"
   ]
  },
  {
   "cell_type": "code",
   "execution_count": 5,
   "id": "5f7fa5b9-3d0f-465f-921f-cc728d8e080b",
   "metadata": {},
   "outputs": [
    {
     "name": "stdout",
     "output_type": "stream",
     "text": [
      "- pen\n",
      "- notebook\n",
      "- laptop\n"
     ]
    }
   ],
   "source": [
    "#Arbitrary Arguments\n",
    "\n",
    "def list_items(*items):\n",
    "    for item in items:\n",
    "        print(f\"- {item}\")\n",
    "list_items(\"pen\", \"notebook\", \"laptop\")\n"
   ]
  },
  {
   "cell_type": "code",
   "execution_count": 6,
   "id": "42a3e684-99bc-4968-9607-65f978d6bf3d",
   "metadata": {},
   "outputs": [
    {
     "data": {
      "text/plain": [
       "120"
      ]
     },
     "execution_count": 6,
     "metadata": {},
     "output_type": "execute_result"
    }
   ],
   "source": [
    "def factorial(n):\n",
    "    if n == 1:\n",
    "        return 1\n",
    "    return n * factorial(n - 1)\n",
    "factorial(5) \n"
   ]
  },
  {
   "cell_type": "code",
   "execution_count": 7,
   "id": "0685bbe1-a4bb-46b5-ac48-e68204462f41",
   "metadata": {},
   "outputs": [
    {
     "name": "stdout",
     "output_type": "stream",
     "text": [
      "Hadia, 19 years old, lives in Lahore.\n"
     ]
    }
   ],
   "source": [
    "# Function With Default and Keyword Arguments\n",
    "\n",
    "def make_profile(name, age=19, city=\"Unknown\"):\n",
    "    print(f\"{name}, {age} years old, lives in {city}.\")\n",
    "make_profile(\"Hadia\", city=\"Lahore\")\n"
   ]
  }
 ],
 "metadata": {
  "kernelspec": {
   "display_name": "anaconda-2024.02-py310",
   "language": "python",
   "name": "conda-env-anaconda-2024.02-py310-py"
  },
  "language_info": {
   "codemirror_mode": {
    "name": "ipython",
    "version": 3
   },
   "file_extension": ".py",
   "mimetype": "text/x-python",
   "name": "python",
   "nbconvert_exporter": "python",
   "pygments_lexer": "ipython3",
   "version": "3.10.14"
  }
 },
 "nbformat": 4,
 "nbformat_minor": 5
}
