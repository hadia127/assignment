{
 "cells": [
  {
   "cell_type": "code",
   "execution_count": 26,
   "id": "480d94bb",
   "metadata": {},
   "outputs": [
    {
     "name": "stdout",
     "output_type": "stream",
     "text": [
      "toyota\n",
      "camry\n",
      "2022\n"
     ]
    }
   ],
   "source": [
    "class Car:\n",
    "    def __init__(self, brand, model, year):\n",
    "        self.brand = brand\n",
    "        self.model = model\n",
    "        self.year = year\n",
    "x=Car(\"toyota\",\"camry\",2022)\n",
    "print(x.brand)\n",
    "print(x.model)\n",
    "print(x.year)"
   ]
  },
  {
   "cell_type": "code",
   "execution_count": 7,
   "id": "654c4db7",
   "metadata": {},
   "outputs": [
    {
     "name": "stdout",
     "output_type": "stream",
     "text": [
      "Hello, my name is Alice and I am 30 years old.\n"
     ]
    }
   ],
   "source": [
    "class Person:\n",
    "    def __init__(self, name, age):\n",
    "        self.name = name\n",
    "        self.age = age\n",
    "\n",
    "    def greet(self):\n",
    "        print(f\"Hello, my name is {self.name} and I am {self.age} years old.\")\n",
    "\n",
    "\n",
    "person1 = Person(\"Alice\", 30)\n",
    "\n",
    "person1.greet()"
   ]
  },
  {
   "cell_type": "code",
   "execution_count": 13,
   "id": "d0f1acd2",
   "metadata": {},
   "outputs": [
    {
     "name": "stdout",
     "output_type": "stream",
     "text": [
      "5\n"
     ]
    }
   ],
   "source": [
    "class my_class:\n",
    "    x=5\n",
    "    def __init__(self,name,age):\n",
    "        self.name=name\n",
    "        self.age=age\n",
    "print(my_class.x)"
   ]
  },
  {
   "cell_type": "code",
   "execution_count": 15,
   "id": "75083398",
   "metadata": {},
   "outputs": [
    {
     "name": "stdout",
     "output_type": "stream",
     "text": [
      "Hadia 19\n",
      "5\n"
     ]
    }
   ],
   "source": [
    "class my_class:\n",
    "    x = 5\n",
    "    def __init__(self, name, age):\n",
    "        self.name = name\n",
    "        self.age = age\n",
    "p1 = my_class('Hadia', 19)\n",
    "print(p1.name, p1.age)  \n",
    "print(my_class.x) "
   ]
  },
  {
   "cell_type": "code",
   "execution_count": 24,
   "id": "2acb67f3",
   "metadata": {},
   "outputs": [
    {
     "name": "stdout",
     "output_type": "stream",
     "text": [
      "my name is Hadia\n",
      "i am 19 years old\n"
     ]
    }
   ],
   "source": [
    "class student:\n",
    "    def __init__(a,name,age):\n",
    "        a.name=name\n",
    "        a.age=age\n",
    "x=student('Hadia',19)\n",
    "print(f\"my name is {x.name}\")\n",
    "print(f'i am {x.age} years old')"
   ]
  }
 ],
 "metadata": {
  "kernelspec": {
   "display_name": "Python 3 (ipykernel)",
   "language": "python",
   "name": "python3"
  },
  "language_info": {
   "codemirror_mode": {
    "name": "ipython",
    "version": 3
   },
   "file_extension": ".py",
   "mimetype": "text/x-python",
   "name": "python",
   "nbconvert_exporter": "python",
   "pygments_lexer": "ipython3",
   "version": "3.9.12"
  }
 },
 "nbformat": 4,
 "nbformat_minor": 5
}
