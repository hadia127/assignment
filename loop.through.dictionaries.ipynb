{
 "cells": [
  {
   "cell_type": "code",
   "execution_count": 1,
   "id": "9a18a760-fe76-4273-9c9b-1fe804bdb785",
   "metadata": {},
   "outputs": [
    {
     "name": "stdout",
     "output_type": "stream",
     "text": [
      "name\n",
      "age\n",
      "grade\n"
     ]
    }
   ],
   "source": [
    "# loop through dictionaries\n",
    "student = {\"name\": \"Hadia\", \"age\": 19, \"grade\": \"A\"}\n",
    "\n",
    "for key in student:\n",
    "    print(key)\n"
   ]
  },
  {
   "cell_type": "code",
   "execution_count": 2,
   "id": "b07f4548-7259-4f90-a9e7-a062fc65d722",
   "metadata": {},
   "outputs": [
    {
     "name": "stdout",
     "output_type": "stream",
     "text": [
      "Hadia\n",
      "19\n",
      "A\n"
     ]
    }
   ],
   "source": [
    "for value in student.values():\n",
    "    print(value)"
   ]
  },
  {
   "cell_type": "code",
   "execution_count": 3,
   "id": "12df8838-f60c-448a-9929-c513579ba6b3",
   "metadata": {},
   "outputs": [
    {
     "name": "stdout",
     "output_type": "stream",
     "text": [
      "name : Hadia\n",
      "age : 19\n",
      "grade : A\n"
     ]
    }
   ],
   "source": [
    "for key, value in student.items():\n",
    "    print(key, \":\", value)\n",
    "    "
   ]
  },
  {
   "cell_type": "code",
   "execution_count": 4,
   "id": "56d0ca8a-892f-450d-ae85-77a58eae4e0f",
   "metadata": {},
   "outputs": [
    {
     "name": "stdout",
     "output_type": "stream",
     "text": [
      "{1: 1, 2: 4, 3: 9}\n"
     ]
    }
   ],
   "source": [
    "squares = {}\n",
    "for i in range(1, 4):\n",
    "    squares[i] = i * i\n",
    "\n",
    "print(squares)"
   ]
  },
  {
   "cell_type": "code",
   "execution_count": 5,
   "id": "80ad27a8-cac8-4d85-9852-27f7438f31e0",
   "metadata": {},
   "outputs": [
    {
     "name": "stdout",
     "output_type": "stream",
     "text": [
      "b 15\n",
      "d 20\n"
     ]
    }
   ],
   "source": [
    "numbers = {\"a\": 5, \"b\": 15, \"c\": 8, \"d\": 20}\n",
    "\n",
    "for key in numbers:\n",
    "    if numbers[key] > 10:\n",
    "        print(key, numbers[key])\n",
    "        "
   ]
  },
  {
   "cell_type": "code",
   "execution_count": 6,
   "id": "25d3e4d7-f555-491d-96fe-a8c5df7ff48e",
   "metadata": {},
   "outputs": [
    {
     "name": "stdout",
     "output_type": "stream",
     "text": [
      "Ali scored 85\n",
      "Ahmed scored 90\n",
      "Hassan scored 78\n"
     ]
    }
   ],
   "source": [
    "students = {\"Ali\": 85, \"Ahmed\": 90, \"Hassan\": 78}\n",
    "keys = list(students.keys())\n",
    "i = 0\n",
    "\n",
    "while i < len(keys):\n",
    "    name = keys[i]\n",
    "    score = students[name]\n",
    "    print(f\"{name} scored {score}\")\n",
    "    i += 1\n",
    " "
   ]
  },
  {
   "cell_type": "code",
   "execution_count": 7,
   "id": "447bc7d7-79e4-4991-b434-7061f5466465",
   "metadata": {},
   "outputs": [
    {
     "name": "stdout",
     "output_type": "stream",
     "text": [
      "Ali's grades:\n",
      "  Math: 85\n",
      "  English: 90\n",
      "Ahmed's grades:\n",
      "  Math: 75\n",
      "  English: 80\n",
      "Hassan's grades:\n",
      "  Math: 95\n",
      "  English: 85\n"
     ]
    }
   ],
   "source": [
    "   \n",
    "grades = {\n",
    "    \"Ali\": {\"Math\": 85, \"English\": 90},\n",
    "    \"Ahmed\": {\"Math\": 75, \"English\": 80},\n",
    "    \"Hassan\": {\"Math\": 95, \"English\": 85}\n",
    "}\n",
    "\n",
    "for student, subjects in grades.items():\n",
    "    print(f\"{student}'s grades:\")\n",
    "    for subject, score in subjects.items():\n",
    "        print(f\"  {subject}: {score}\")"
   ]
  }
 ],
 "metadata": {
  "kernelspec": {
   "display_name": "anaconda-2024.02-py310",
   "language": "python",
   "name": "conda-env-anaconda-2024.02-py310-py"
  },
  "language_info": {
   "codemirror_mode": {
    "name": "ipython",
    "version": 3
   },
   "file_extension": ".py",
   "mimetype": "text/x-python",
   "name": "python",
   "nbconvert_exporter": "python",
   "pygments_lexer": "ipython3",
   "version": "3.10.14"
  }
 },
 "nbformat": 4,
 "nbformat_minor": 5
}
